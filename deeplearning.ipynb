{
  "nbformat": 4,
  "nbformat_minor": 0,
  "metadata": {
    "colab": {
      "name": "deeplearning.ipynb",
      "provenance": [],
      "authorship_tag": "ABX9TyM0ReThcKkDeGVzjRy8SMQU",
      "include_colab_link": true
    },
    "kernelspec": {
      "name": "python3",
      "display_name": "Python 3"
    },
    "language_info": {
      "name": "python"
    }
  },
  "cells": [
    {
      "cell_type": "markdown",
      "metadata": {
        "id": "view-in-github",
        "colab_type": "text"
      },
      "source": [
        "<a href=\"https://colab.research.google.com/github/atwanzireT/DSA-python/blob/main/deeplearning.ipynb\" target=\"_parent\"><img src=\"https://colab.research.google.com/assets/colab-badge.svg\" alt=\"Open In Colab\"/></a>"
      ]
    },
    {
      "cell_type": "code",
      "execution_count": 1,
      "metadata": {
        "id": "sFougAKQ46Wz"
      },
      "outputs": [],
      "source": [
        "import tensorflow as tf\n",
        "import matplotlib.pyplot as plt\n",
        "from tensorflow import keras\n",
        "import numpy as np"
      ]
    },
    {
      "cell_type": "code",
      "source": [
        "tf.config.experimental.list_physical_devices()"
      ],
      "metadata": {
        "colab": {
          "base_uri": "https://localhost:8080/"
        },
        "id": "aLB5ugu85cBf",
        "outputId": "71473f86-eb09-474c-9b72-193123736bda"
      },
      "execution_count": 2,
      "outputs": [
        {
          "output_type": "execute_result",
          "data": {
            "text/plain": [
              "[PhysicalDevice(name='/physical_device:CPU:0', device_type='CPU')]"
            ]
          },
          "metadata": {},
          "execution_count": 2
        }
      ]
    },
    {
      "cell_type": "code",
      "source": [
        "(X_train, y_train), (X_test, y_test) = tf.keras.datasets.cifar10.load_data()"
      ],
      "metadata": {
        "colab": {
          "base_uri": "https://localhost:8080/"
        },
        "id": "Sn45WmBv5n1s",
        "outputId": "a78482f5-23c6-456a-c196-9f13ef5cee2f"
      },
      "execution_count": 3,
      "outputs": [
        {
          "output_type": "stream",
          "name": "stdout",
          "text": [
            "Downloading data from https://www.cs.toronto.edu/~kriz/cifar-10-python.tar.gz\n",
            "170500096/170498071 [==============================] - 4s 0us/step\n",
            "170508288/170498071 [==============================] - 4s 0us/step\n"
          ]
        }
      ]
    },
    {
      "cell_type": "code",
      "source": [
        "X_train.shape"
      ],
      "metadata": {
        "colab": {
          "base_uri": "https://localhost:8080/"
        },
        "id": "eZyqwpfF6nqn",
        "outputId": "8def4f78-7543-4934-ff30-07689badd25e"
      },
      "execution_count": 5,
      "outputs": [
        {
          "output_type": "execute_result",
          "data": {
            "text/plain": [
              "(50000, 32, 32, 3)"
            ]
          },
          "metadata": {},
          "execution_count": 5
        }
      ]
    },
    {
      "cell_type": "code",
      "source": [
        "y_train.shape"
      ],
      "metadata": {
        "colab": {
          "base_uri": "https://localhost:8080/"
        },
        "id": "8kFM0gbU6z0x",
        "outputId": "ecd97475-3e78-400f-bd2d-b52c9d0c1358"
      },
      "execution_count": 6,
      "outputs": [
        {
          "output_type": "execute_result",
          "data": {
            "text/plain": [
              "(50000, 1)"
            ]
          },
          "metadata": {},
          "execution_count": 6
        }
      ]
    },
    {
      "cell_type": "code",
      "source": [
        "plt.imshow(X_train[0])"
      ],
      "metadata": {
        "colab": {
          "base_uri": "https://localhost:8080/",
          "height": 283
        },
        "id": "NfipGA2Y639n",
        "outputId": "5525b6c8-c30c-433f-df56-2d09c31edec1"
      },
      "execution_count": 7,
      "outputs": [
        {
          "output_type": "execute_result",
          "data": {
            "text/plain": [
              "<matplotlib.image.AxesImage at 0x7f5b5c2c0e90>"
            ]
          },
          "metadata": {},
          "execution_count": 7
        },
        {
          "output_type": "display_data",
          "data": {
            "text/plain": [
              "<Figure size 432x288 with 1 Axes>"
            ],
            "image/png": "[encoded data removed]"
          },
          "metadata": {
            "needs_background": "light"
          }
        }
      ]
    },
    {
      "cell_type": "code",
      "source": [
        "plt.imshow(X_train[7])"
      ],
      "metadata": {
        "colab": {
          "base_uri": "https://localhost:8080/",
          "height": 283
        },
        "id": "nyaTtuLbAP21",
        "outputId": "2e131653-3f2f-40fb-ebae-2f8a31fdcd13"
      },
      "execution_count": 10,
      "outputs": [
        {
          "output_type": "execute_result",
          "data": {
            "text/plain": [
              "<matplotlib.image.AxesImage at 0x7f5b5bc561d0>"
            ]
          },
          "metadata": {},
          "execution_count": 10
        },
        {
          "output_type": "display_data",
          "data": {
            "text/plain": [
              "<Figure size 432x288 with 1 Axes>"
            ],
            "image/png": "[encoded data removed]"
          },
          "metadata": {
            "needs_background": "light"
          }
        }
      ]
    },
    {
      "cell_type": "code",
      "source": [
        "classes = (\"airplane\", \"automobile\", \"bird\", \"cat\", \"deer\", \"dog\", \"frog\", \"horse\", \"ship\", \"truck\")"
      ],
      "metadata": {
        "id": "Nh9168QwA2Ge"
      },
      "execution_count": 11,
      "outputs": []
    },
    {
      "cell_type": "code",
      "source": [
        "y_train[3]"
      ],
      "metadata": {
        "colab": {
          "base_uri": "https://localhost:8080/"
        },
        "id": "AsERZMc7Fy3g",
        "outputId": "abc36f9c-e91f-4fcb-f066-487263b81df1"
      },
      "execution_count": 13,
      "outputs": [
        {
          "output_type": "execute_result",
          "data": {
            "text/plain": [
              "array([4], dtype=uint8)"
            ]
          },
          "metadata": {},
          "execution_count": 13
        }
      ]
    },
    {
      "cell_type": "code",
      "source": [
        "classes[y_train[0][0]]"
      ],
      "metadata": {
        "colab": {
          "base_uri": "https://localhost:8080/",
          "height": 35
        },
        "id": "4Y1HDyxRHNrl",
        "outputId": "5051283d-9b17-4701-95c2-bedd257678ca"
      },
      "execution_count": 18,
      "outputs": [
        {
          "output_type": "execute_result",
          "data": {
            "text/plain": [
              "'frog'"
            ],
            "application/vnd.google.colaboratory.intrinsic+json": {
              "type": "string"
            }
          },
          "metadata": {},
          "execution_count": 18
        }
      ]
    },
    {
      "cell_type": "code",
      "source": [
        "X_train[0]"
      ],
      "metadata": {
        "colab": {
          "base_uri": "https://localhost:8080/"
        },
        "id": "0Krp94enHcDj",
        "outputId": "a5dd3c94-4e1e-4064-adea-e0c45f40038a"
      },
      "execution_count": 19,
      "outputs": [
        {
          "output_type": "execute_result",
          "data": {
            "text/plain": [
              "array([[[ 59,  62,  63],\n",
              "        [ 43,  46,  45],\n",
              "        [ 50,  48,  43],\n",
              "        ...,\n",
              "        [158, 132, 108],\n",
              "        [152, 125, 102],\n",
              "        [148, 124, 103]],\n",
              "\n",
              "       [[ 16,  20,  20],\n",
              "        [  0,   0,   0],\n",
              "        [ 18,   8,   0],\n",
              "        ...,\n",
              "        [123,  88,  55],\n",
              "        [119,  83,  50],\n",
              "        [122,  87,  57]],\n",
              "\n",
              "       [[ 25,  24,  21],\n",
              "        [ 16,   7,   0],\n",
              "        [ 49,  27,   8],\n",
              "        ...,\n",
              "        [118,  84,  50],\n",
              "        [120,  84,  50],\n",
              "        [109,  73,  42]],\n",
              "\n",
              "       ...,\n",
              "\n",
              "       [[208, 170,  96],\n",
              "        [201, 153,  34],\n",
              "        [198, 161,  26],\n",
              "        ...,\n",
              "        [160, 133,  70],\n",
              "        [ 56,  31,   7],\n",
              "        [ 53,  34,  20]],\n",
              "\n",
              "       [[180, 139,  96],\n",
              "        [173, 123,  42],\n",
              "        [186, 144,  30],\n",
              "        ...,\n",
              "        [184, 148,  94],\n",
              "        [ 97,  62,  34],\n",
              "        [ 83,  53,  34]],\n",
              "\n",
              "       [[177, 144, 116],\n",
              "        [168, 129,  94],\n",
              "        [179, 142,  87],\n",
              "        ...,\n",
              "        [216, 184, 140],\n",
              "        [151, 118,  84],\n",
              "        [123,  92,  72]]], dtype=uint8)"
            ]
          },
          "metadata": {},
          "execution_count": 19
        }
      ]
    },
    {
      "cell_type": "code",
      "source": [
        "X_train_scaled  = X_train/255\n",
        "X_test_scaled  = X_test / 255"
      ],
      "metadata": {
        "id": "mO7sNQjZHs3s"
      },
      "execution_count": 21,
      "outputs": []
    },
    {
      "cell_type": "code",
      "source": [
        "X_train_scaled.shape"
      ],
      "metadata": {
        "colab": {
          "base_uri": "https://localhost:8080/"
        },
        "id": "oHU89a4bHzfp",
        "outputId": "e2f81f5a-6a05-4c98-b7b4-11922654008b"
      },
      "execution_count": 22,
      "outputs": [
        {
          "output_type": "execute_result",
          "data": {
            "text/plain": [
              "(50000, 32, 32, 3)"
            ]
          },
          "metadata": {},
          "execution_count": 22
        }
      ]
    },
    {
      "cell_type": "code",
      "source": [
        "print(X_train_scaled)\n",
        "print(X_test_scaled)"
      ],
      "metadata": {
        "colab": {
          "base_uri": "https://localhost:8080/"
        },
        "id": "MasViBPRIT01",
        "outputId": "9787c011-f521-43f4-830f-d9b4ed29d59d"
      },
      "execution_count": 23,
      "outputs": [
        {
          "output_type": "stream",
          "name": "stdout",
          "text": [
            "[[[[0.23137255 0.24313725 0.24705882]\n",
            "   [0.16862745 0.18039216 0.17647059]\n",
            "   [0.19607843 0.18823529 0.16862745]\n",
            "   ...\n",
            "   [0.61960784 0.51764706 0.42352941]\n",
            "   [0.59607843 0.49019608 0.4       ]\n",
            "   [0.58039216 0.48627451 0.40392157]]\n",
            "\n",
            "  [[0.0627451  0.07843137 0.07843137]\n",
            "   [0.         0.         0.        ]\n",
            "   [0.07058824 0.03137255 0.        ]\n",
            "   ...\n",
            "   [0.48235294 0.34509804 0.21568627]\n",
            "   [0.46666667 0.3254902  0.19607843]\n",
            "   [0.47843137 0.34117647 0.22352941]]\n",
            "\n",
            "  [[0.09803922 0.09411765 0.08235294]\n",
            "   [0.0627451  0.02745098 0.        ]\n",
            "   [0.19215686 0.10588235 0.03137255]\n",
            "   ...\n",
            "   [0.4627451  0.32941176 0.19607843]\n",
            "   [0.47058824 0.32941176 0.19607843]\n",
            "   [0.42745098 0.28627451 0.16470588]]\n",
            "\n",
            "  ...\n",
            "\n",
            "  [[0.81568627 0.66666667 0.37647059]\n",
            "   [0.78823529 0.6        0.13333333]\n",
            "   [0.77647059 0.63137255 0.10196078]\n",
            "   ...\n",
            "   [0.62745098 0.52156863 0.2745098 ]\n",
            "   [0.21960784 0.12156863 0.02745098]\n",
            "   [0.20784314 0.13333333 0.07843137]]\n",
            "\n",
            "  [[0.70588235 0.54509804 0.37647059]\n",
            "   [0.67843137 0.48235294 0.16470588]\n",
            "   [0.72941176 0.56470588 0.11764706]\n",
            "   ...\n",
            "   [0.72156863 0.58039216 0.36862745]\n",
            "   [0.38039216 0.24313725 0.13333333]\n",
            "   [0.3254902  0.20784314 0.13333333]]\n",
            "\n",
            "  [[0.69411765 0.56470588 0.45490196]\n",
            "   [0.65882353 0.50588235 0.36862745]\n",
            "   [0.70196078 0.55686275 0.34117647]\n",
            "   ...\n",
            "   [0.84705882 0.72156863 0.54901961]\n",
            "   [0.59215686 0.4627451  0.32941176]\n",
            "   [0.48235294 0.36078431 0.28235294]]]\n",
            "\n",
            "\n",
            " [[[0.60392157 0.69411765 0.73333333]\n",
            "   [0.49411765 0.5372549  0.53333333]\n",
            "   [0.41176471 0.40784314 0.37254902]\n",
            "   ...\n",
            "   [0.35686275 0.37254902 0.27843137]\n",
            "   [0.34117647 0.35294118 0.27843137]\n",
            "   [0.30980392 0.31764706 0.2745098 ]]\n",
            "\n",
            "  [[0.54901961 0.62745098 0.6627451 ]\n",
            "   [0.56862745 0.6        0.60392157]\n",
            "   [0.49019608 0.49019608 0.4627451 ]\n",
            "   ...\n",
            "   [0.37647059 0.38823529 0.30588235]\n",
            "   [0.30196078 0.31372549 0.24313725]\n",
            "   [0.27843137 0.28627451 0.23921569]]\n",
            "\n",
            "  [[0.54901961 0.60784314 0.64313725]\n",
            "   [0.54509804 0.57254902 0.58431373]\n",
            "   [0.45098039 0.45098039 0.43921569]\n",
            "   ...\n",
            "   [0.30980392 0.32156863 0.25098039]\n",
            "   [0.26666667 0.2745098  0.21568627]\n",
            "   [0.2627451  0.27058824 0.21568627]]\n",
            "\n",
            "  ...\n",
            "\n",
            "  [[0.68627451 0.65490196 0.65098039]\n",
            "   [0.61176471 0.60392157 0.62745098]\n",
            "   [0.60392157 0.62745098 0.66666667]\n",
            "   ...\n",
            "   [0.16470588 0.13333333 0.14117647]\n",
            "   [0.23921569 0.20784314 0.22352941]\n",
            "   [0.36470588 0.3254902  0.35686275]]\n",
            "\n",
            "  [[0.64705882 0.60392157 0.50196078]\n",
            "   [0.61176471 0.59607843 0.50980392]\n",
            "   [0.62352941 0.63137255 0.55686275]\n",
            "   ...\n",
            "   [0.40392157 0.36470588 0.37647059]\n",
            "   [0.48235294 0.44705882 0.47058824]\n",
            "   [0.51372549 0.4745098  0.51372549]]\n",
            "\n",
            "  [[0.63921569 0.58039216 0.47058824]\n",
            "   [0.61960784 0.58039216 0.47843137]\n",
            "   [0.63921569 0.61176471 0.52156863]\n",
            "   ...\n",
            "   [0.56078431 0.52156863 0.54509804]\n",
            "   [0.56078431 0.5254902  0.55686275]\n",
            "   [0.56078431 0.52156863 0.56470588]]]\n",
            "\n",
            "\n",
            " [[[1.         1.         1.        ]\n",
            "   [0.99215686 0.99215686 0.99215686]\n",
            "   [0.99215686 0.99215686 0.99215686]\n",
            "   ...\n",
            "   [0.99215686 0.99215686 0.99215686]\n",
            "   [0.99215686 0.99215686 0.99215686]\n",
            "   [0.99215686 0.99215686 0.99215686]]\n",
            "\n",
            "  [[1.         1.         1.        ]\n",
            "   [1.         1.         1.        ]\n",
            "   [1.         1.         1.        ]\n",
            "   ...\n",
            "   [1.         1.         1.        ]\n",
            "   [1.         1.         1.        ]\n",
            "   [1.         1.         1.        ]]\n",
            "\n",
            "  [[1.         1.         1.        ]\n",
            "   [0.99607843 0.99607843 0.99607843]\n",
            "   [0.99607843 0.99607843 0.99607843]\n",
            "   ...\n",
            "   [0.99607843 0.99607843 0.99607843]\n",
            "   [0.99607843 0.99607843 0.99607843]\n",
            "   [0.99607843 0.99607843 0.99607843]]\n",
            "\n",
            "  ...\n",
            "\n",
            "  [[0.44313725 0.47058824 0.43921569]\n",
            "   [0.43529412 0.4627451  0.43529412]\n",
            "   [0.41176471 0.43921569 0.41568627]\n",
            "   ...\n",
            "   [0.28235294 0.31764706 0.31372549]\n",
            "   [0.28235294 0.31372549 0.30980392]\n",
            "   [0.28235294 0.31372549 0.30980392]]\n",
            "\n",
            "  [[0.43529412 0.4627451  0.43137255]\n",
            "   [0.40784314 0.43529412 0.40784314]\n",
            "   [0.38823529 0.41568627 0.38431373]\n",
            "   ...\n",
            "   [0.26666667 0.29411765 0.28627451]\n",
            "   [0.2745098  0.29803922 0.29411765]\n",
            "   [0.30588235 0.32941176 0.32156863]]\n",
            "\n",
            "  [[0.41568627 0.44313725 0.41176471]\n",
            "   [0.38823529 0.41568627 0.38431373]\n",
            "   [0.37254902 0.4        0.36862745]\n",
            "   ...\n",
            "   [0.30588235 0.33333333 0.3254902 ]\n",
            "   [0.30980392 0.33333333 0.3254902 ]\n",
            "   [0.31372549 0.3372549  0.32941176]]]\n",
            "\n",
            "\n",
            " ...\n",
            "\n",
            "\n",
            " [[[0.1372549  0.69803922 0.92156863]\n",
            "   [0.15686275 0.69019608 0.9372549 ]\n",
            "   [0.16470588 0.69019608 0.94509804]\n",
            "   ...\n",
            "   [0.38823529 0.69411765 0.85882353]\n",
            "   [0.30980392 0.57647059 0.77254902]\n",
            "   [0.34901961 0.58039216 0.74117647]]\n",
            "\n",
            "  [[0.22352941 0.71372549 0.91764706]\n",
            "   [0.17254902 0.72156863 0.98039216]\n",
            "   [0.19607843 0.71764706 0.94117647]\n",
            "   ...\n",
            "   [0.61176471 0.71372549 0.78431373]\n",
            "   [0.55294118 0.69411765 0.80784314]\n",
            "   [0.45490196 0.58431373 0.68627451]]\n",
            "\n",
            "  [[0.38431373 0.77254902 0.92941176]\n",
            "   [0.25098039 0.74117647 0.98823529]\n",
            "   [0.27058824 0.75294118 0.96078431]\n",
            "   ...\n",
            "   [0.7372549  0.76470588 0.80784314]\n",
            "   [0.46666667 0.52941176 0.57647059]\n",
            "   [0.23921569 0.30980392 0.35294118]]\n",
            "\n",
            "  ...\n",
            "\n",
            "  [[0.28627451 0.30980392 0.30196078]\n",
            "   [0.20784314 0.24705882 0.26666667]\n",
            "   [0.21176471 0.26666667 0.31372549]\n",
            "   ...\n",
            "   [0.06666667 0.15686275 0.25098039]\n",
            "   [0.08235294 0.14117647 0.2       ]\n",
            "   [0.12941176 0.18823529 0.19215686]]\n",
            "\n",
            "  [[0.23921569 0.26666667 0.29411765]\n",
            "   [0.21568627 0.2745098  0.3372549 ]\n",
            "   [0.22352941 0.30980392 0.40392157]\n",
            "   ...\n",
            "   [0.09411765 0.18823529 0.28235294]\n",
            "   [0.06666667 0.1372549  0.20784314]\n",
            "   [0.02745098 0.09019608 0.1254902 ]]\n",
            "\n",
            "  [[0.17254902 0.21960784 0.28627451]\n",
            "   [0.18039216 0.25882353 0.34509804]\n",
            "   [0.19215686 0.30196078 0.41176471]\n",
            "   ...\n",
            "   [0.10588235 0.20392157 0.30196078]\n",
            "   [0.08235294 0.16862745 0.25882353]\n",
            "   [0.04705882 0.12156863 0.19607843]]]\n",
            "\n",
            "\n",
            " [[[0.74117647 0.82745098 0.94117647]\n",
            "   [0.72941176 0.81568627 0.9254902 ]\n",
            "   [0.7254902  0.81176471 0.92156863]\n",
            "   ...\n",
            "   [0.68627451 0.76470588 0.87843137]\n",
            "   [0.6745098  0.76078431 0.87058824]\n",
            "   [0.6627451  0.76078431 0.8627451 ]]\n",
            "\n",
            "  [[0.76078431 0.82352941 0.9372549 ]\n",
            "   [0.74901961 0.81176471 0.9254902 ]\n",
            "   [0.74509804 0.80784314 0.92156863]\n",
            "   ...\n",
            "   [0.67843137 0.75294118 0.8627451 ]\n",
            "   [0.67058824 0.74901961 0.85490196]\n",
            "   [0.65490196 0.74509804 0.84705882]]\n",
            "\n",
            "  [[0.81568627 0.85882353 0.95686275]\n",
            "   [0.80392157 0.84705882 0.94117647]\n",
            "   [0.8        0.84313725 0.9372549 ]\n",
            "   ...\n",
            "   [0.68627451 0.74901961 0.85098039]\n",
            "   [0.6745098  0.74509804 0.84705882]\n",
            "   [0.6627451  0.74901961 0.84313725]]\n",
            "\n",
            "  ...\n",
            "\n",
            "  [[0.81176471 0.78039216 0.70980392]\n",
            "   [0.79607843 0.76470588 0.68627451]\n",
            "   [0.79607843 0.76862745 0.67843137]\n",
            "   ...\n",
            "   [0.52941176 0.51764706 0.49803922]\n",
            "   [0.63529412 0.61960784 0.58823529]\n",
            "   [0.65882353 0.63921569 0.59215686]]\n",
            "\n",
            "  [[0.77647059 0.74509804 0.66666667]\n",
            "   [0.74117647 0.70980392 0.62352941]\n",
            "   [0.70588235 0.6745098  0.57647059]\n",
            "   ...\n",
            "   [0.69803922 0.67058824 0.62745098]\n",
            "   [0.68627451 0.6627451  0.61176471]\n",
            "   [0.68627451 0.6627451  0.60392157]]\n",
            "\n",
            "  [[0.77647059 0.74117647 0.67843137]\n",
            "   [0.74117647 0.70980392 0.63529412]\n",
            "   [0.69803922 0.66666667 0.58431373]\n",
            "   ...\n",
            "   [0.76470588 0.72156863 0.6627451 ]\n",
            "   [0.76862745 0.74117647 0.67058824]\n",
            "   [0.76470588 0.74509804 0.67058824]]]\n",
            "\n",
            "\n",
            " [[[0.89803922 0.89803922 0.9372549 ]\n",
            "   [0.9254902  0.92941176 0.96862745]\n",
            "   [0.91764706 0.9254902  0.96862745]\n",
            "   ...\n",
            "   [0.85098039 0.85882353 0.91372549]\n",
            "   [0.86666667 0.8745098  0.91764706]\n",
            "   [0.87058824 0.8745098  0.91372549]]\n",
            "\n",
            "  [[0.87058824 0.86666667 0.89803922]\n",
            "   [0.9372549  0.9372549  0.97647059]\n",
            "   [0.91372549 0.91764706 0.96470588]\n",
            "   ...\n",
            "   [0.8745098  0.8745098  0.9254902 ]\n",
            "   [0.89019608 0.89411765 0.93333333]\n",
            "   [0.82352941 0.82745098 0.8627451 ]]\n",
            "\n",
            "  [[0.83529412 0.80784314 0.82745098]\n",
            "   [0.91764706 0.90980392 0.9372549 ]\n",
            "   [0.90588235 0.91372549 0.95686275]\n",
            "   ...\n",
            "   [0.8627451  0.8627451  0.90980392]\n",
            "   [0.8627451  0.85882353 0.90980392]\n",
            "   [0.79215686 0.79607843 0.84313725]]\n",
            "\n",
            "  ...\n",
            "\n",
            "  [[0.58823529 0.56078431 0.52941176]\n",
            "   [0.54901961 0.52941176 0.49803922]\n",
            "   [0.51764706 0.49803922 0.47058824]\n",
            "   ...\n",
            "   [0.87843137 0.87058824 0.85490196]\n",
            "   [0.90196078 0.89411765 0.88235294]\n",
            "   [0.94509804 0.94509804 0.93333333]]\n",
            "\n",
            "  [[0.5372549  0.51764706 0.49411765]\n",
            "   [0.50980392 0.49803922 0.47058824]\n",
            "   [0.49019608 0.4745098  0.45098039]\n",
            "   ...\n",
            "   [0.70980392 0.70588235 0.69803922]\n",
            "   [0.79215686 0.78823529 0.77647059]\n",
            "   [0.83137255 0.82745098 0.81176471]]\n",
            "\n",
            "  [[0.47843137 0.46666667 0.44705882]\n",
            "   [0.4627451  0.45490196 0.43137255]\n",
            "   [0.47058824 0.45490196 0.43529412]\n",
            "   ...\n",
            "   [0.70196078 0.69411765 0.67843137]\n",
            "   [0.64313725 0.64313725 0.63529412]\n",
            "   [0.63921569 0.63921569 0.63137255]]]]\n",
            "[[[[0.61960784 0.43921569 0.19215686]\n",
            "   [0.62352941 0.43529412 0.18431373]\n",
            "   [0.64705882 0.45490196 0.2       ]\n",
            "   ...\n",
            "   [0.5372549  0.37254902 0.14117647]\n",
            "   [0.49411765 0.35686275 0.14117647]\n",
            "   [0.45490196 0.33333333 0.12941176]]\n",
            "\n",
            "  [[0.59607843 0.43921569 0.2       ]\n",
            "   [0.59215686 0.43137255 0.15686275]\n",
            "   [0.62352941 0.44705882 0.17647059]\n",
            "   ...\n",
            "   [0.53333333 0.37254902 0.12156863]\n",
            "   [0.49019608 0.35686275 0.1254902 ]\n",
            "   [0.46666667 0.34509804 0.13333333]]\n",
            "\n",
            "  [[0.59215686 0.43137255 0.18431373]\n",
            "   [0.59215686 0.42745098 0.12941176]\n",
            "   [0.61960784 0.43529412 0.14117647]\n",
            "   ...\n",
            "   [0.54509804 0.38431373 0.13333333]\n",
            "   [0.50980392 0.37254902 0.13333333]\n",
            "   [0.47058824 0.34901961 0.12941176]]\n",
            "\n",
            "  ...\n",
            "\n",
            "  [[0.26666667 0.48627451 0.69411765]\n",
            "   [0.16470588 0.39215686 0.58039216]\n",
            "   [0.12156863 0.34509804 0.5372549 ]\n",
            "   ...\n",
            "   [0.14901961 0.38039216 0.57254902]\n",
            "   [0.05098039 0.25098039 0.42352941]\n",
            "   [0.15686275 0.33333333 0.49803922]]\n",
            "\n",
            "  [[0.23921569 0.45490196 0.65882353]\n",
            "   [0.19215686 0.4        0.58039216]\n",
            "   [0.1372549  0.33333333 0.51764706]\n",
            "   ...\n",
            "   [0.10196078 0.32156863 0.50980392]\n",
            "   [0.11372549 0.32156863 0.49411765]\n",
            "   [0.07843137 0.25098039 0.41960784]]\n",
            "\n",
            "  [[0.21176471 0.41960784 0.62745098]\n",
            "   [0.21960784 0.41176471 0.58431373]\n",
            "   [0.17647059 0.34901961 0.51764706]\n",
            "   ...\n",
            "   [0.09411765 0.30196078 0.48627451]\n",
            "   [0.13333333 0.32941176 0.50588235]\n",
            "   [0.08235294 0.2627451  0.43137255]]]\n",
            "\n",
            "\n",
            " [[[0.92156863 0.92156863 0.92156863]\n",
            "   [0.90588235 0.90588235 0.90588235]\n",
            "   [0.90980392 0.90980392 0.90980392]\n",
            "   ...\n",
            "   [0.91372549 0.91372549 0.91372549]\n",
            "   [0.91372549 0.91372549 0.91372549]\n",
            "   [0.90980392 0.90980392 0.90980392]]\n",
            "\n",
            "  [[0.93333333 0.93333333 0.93333333]\n",
            "   [0.92156863 0.92156863 0.92156863]\n",
            "   [0.92156863 0.92156863 0.92156863]\n",
            "   ...\n",
            "   [0.9254902  0.9254902  0.9254902 ]\n",
            "   [0.9254902  0.9254902  0.9254902 ]\n",
            "   [0.92156863 0.92156863 0.92156863]]\n",
            "\n",
            "  [[0.92941176 0.92941176 0.92941176]\n",
            "   [0.91764706 0.91764706 0.91764706]\n",
            "   [0.91764706 0.91764706 0.91764706]\n",
            "   ...\n",
            "   [0.92156863 0.92156863 0.92156863]\n",
            "   [0.92156863 0.92156863 0.92156863]\n",
            "   [0.91764706 0.91764706 0.91764706]]\n",
            "\n",
            "  ...\n",
            "\n",
            "  [[0.34117647 0.38823529 0.34901961]\n",
            "   [0.16862745 0.2        0.14509804]\n",
            "   [0.0745098  0.09019608 0.04313725]\n",
            "   ...\n",
            "   [0.6627451  0.72156863 0.70196078]\n",
            "   [0.71372549 0.77254902 0.75686275]\n",
            "   [0.7372549  0.79215686 0.78823529]]\n",
            "\n",
            "  [[0.32156863 0.37647059 0.32156863]\n",
            "   [0.18039216 0.22352941 0.14117647]\n",
            "   [0.14117647 0.17254902 0.08627451]\n",
            "   ...\n",
            "   [0.68235294 0.74117647 0.71764706]\n",
            "   [0.7254902  0.78431373 0.76862745]\n",
            "   [0.73333333 0.79215686 0.78431373]]\n",
            "\n",
            "  [[0.33333333 0.39607843 0.3254902 ]\n",
            "   [0.24313725 0.29411765 0.18823529]\n",
            "   [0.22745098 0.2627451  0.14901961]\n",
            "   ...\n",
            "   [0.65882353 0.71764706 0.69803922]\n",
            "   [0.70588235 0.76470588 0.74901961]\n",
            "   [0.72941176 0.78431373 0.78039216]]]\n",
            "\n",
            "\n",
            " [[[0.61960784 0.74509804 0.87058824]\n",
            "   [0.61960784 0.73333333 0.85490196]\n",
            "   [0.54509804 0.65098039 0.76078431]\n",
            "   ...\n",
            "   [0.89411765 0.90588235 0.91764706]\n",
            "   [0.92941176 0.9372549  0.95294118]\n",
            "   [0.93333333 0.94509804 0.96470588]]\n",
            "\n",
            "  [[0.66666667 0.78431373 0.89803922]\n",
            "   [0.6745098  0.78039216 0.88627451]\n",
            "   [0.59215686 0.69019608 0.78823529]\n",
            "   ...\n",
            "   [0.90980392 0.90980392 0.9254902 ]\n",
            "   [0.96470588 0.96470588 0.98039216]\n",
            "   [0.96470588 0.96862745 0.98431373]]\n",
            "\n",
            "  [[0.68235294 0.78823529 0.88235294]\n",
            "   [0.69019608 0.78431373 0.87058824]\n",
            "   [0.61568627 0.70196078 0.78039216]\n",
            "   ...\n",
            "   [0.90196078 0.89803922 0.90980392]\n",
            "   [0.98039216 0.97647059 0.98431373]\n",
            "   [0.96078431 0.95686275 0.96862745]]\n",
            "\n",
            "  ...\n",
            "\n",
            "  [[0.12156863 0.15686275 0.17647059]\n",
            "   [0.11764706 0.15294118 0.17254902]\n",
            "   [0.10196078 0.1372549  0.15686275]\n",
            "   ...\n",
            "   [0.14509804 0.15686275 0.18039216]\n",
            "   [0.03529412 0.05098039 0.05490196]\n",
            "   [0.01568627 0.02745098 0.01960784]]\n",
            "\n",
            "  [[0.09019608 0.13333333 0.15294118]\n",
            "   [0.10588235 0.14901961 0.16862745]\n",
            "   [0.09803922 0.14117647 0.16078431]\n",
            "   ...\n",
            "   [0.0745098  0.07843137 0.09411765]\n",
            "   [0.01568627 0.02352941 0.01176471]\n",
            "   [0.01960784 0.02745098 0.01176471]]\n",
            "\n",
            "  [[0.10980392 0.16078431 0.18431373]\n",
            "   [0.11764706 0.16862745 0.19607843]\n",
            "   [0.1254902  0.17647059 0.20392157]\n",
            "   ...\n",
            "   [0.01960784 0.02352941 0.03137255]\n",
            "   [0.01568627 0.01960784 0.01176471]\n",
            "   [0.02745098 0.03137255 0.02745098]]]\n",
            "\n",
            "\n",
            " ...\n",
            "\n",
            "\n",
            " [[[0.07843137 0.05882353 0.04705882]\n",
            "   [0.0745098  0.05490196 0.04313725]\n",
            "   [0.05882353 0.05490196 0.04313725]\n",
            "   ...\n",
            "   [0.03921569 0.03529412 0.02745098]\n",
            "   [0.04705882 0.04313725 0.03529412]\n",
            "   [0.05098039 0.04705882 0.03921569]]\n",
            "\n",
            "  [[0.08235294 0.0627451  0.05098039]\n",
            "   [0.07843137 0.0627451  0.05098039]\n",
            "   [0.07058824 0.06666667 0.04705882]\n",
            "   ...\n",
            "   [0.03921569 0.03529412 0.02745098]\n",
            "   [0.03921569 0.03529412 0.02745098]\n",
            "   [0.04705882 0.04313725 0.03529412]]\n",
            "\n",
            "  [[0.08235294 0.0627451  0.05098039]\n",
            "   [0.08235294 0.06666667 0.04705882]\n",
            "   [0.07843137 0.07058824 0.04313725]\n",
            "   ...\n",
            "   [0.04705882 0.04313725 0.03529412]\n",
            "   [0.04705882 0.04313725 0.03529412]\n",
            "   [0.05098039 0.04705882 0.03921569]]\n",
            "\n",
            "  ...\n",
            "\n",
            "  [[0.12941176 0.09803922 0.05098039]\n",
            "   [0.13333333 0.10196078 0.05882353]\n",
            "   [0.13333333 0.10196078 0.05882353]\n",
            "   ...\n",
            "   [0.10980392 0.09803922 0.20392157]\n",
            "   [0.11372549 0.09803922 0.22745098]\n",
            "   [0.09019608 0.07843137 0.16470588]]\n",
            "\n",
            "  [[0.12941176 0.09803922 0.05490196]\n",
            "   [0.13333333 0.10196078 0.05882353]\n",
            "   [0.13333333 0.10196078 0.05882353]\n",
            "   ...\n",
            "   [0.10588235 0.09411765 0.20392157]\n",
            "   [0.10588235 0.09411765 0.21960784]\n",
            "   [0.09803922 0.08627451 0.18431373]]\n",
            "\n",
            "  [[0.12156863 0.09019608 0.04705882]\n",
            "   [0.1254902  0.09411765 0.05098039]\n",
            "   [0.12941176 0.09803922 0.05490196]\n",
            "   ...\n",
            "   [0.09411765 0.09019608 0.19607843]\n",
            "   [0.10196078 0.09019608 0.20784314]\n",
            "   [0.09803922 0.07843137 0.18431373]]]\n",
            "\n",
            "\n",
            " [[[0.09803922 0.15686275 0.04705882]\n",
            "   [0.05882353 0.14117647 0.01176471]\n",
            "   [0.09019608 0.16078431 0.07058824]\n",
            "   ...\n",
            "   [0.23921569 0.32156863 0.30588235]\n",
            "   [0.36078431 0.44313725 0.43921569]\n",
            "   [0.29411765 0.34901961 0.36078431]]\n",
            "\n",
            "  [[0.04705882 0.09803922 0.02352941]\n",
            "   [0.07843137 0.14509804 0.02745098]\n",
            "   [0.09411765 0.14117647 0.05882353]\n",
            "   ...\n",
            "   [0.45098039 0.5254902  0.54117647]\n",
            "   [0.58431373 0.65882353 0.69411765]\n",
            "   [0.40784314 0.45882353 0.51372549]]\n",
            "\n",
            "  [[0.04705882 0.09803922 0.04313725]\n",
            "   [0.05882353 0.11372549 0.02352941]\n",
            "   [0.13333333 0.15686275 0.09411765]\n",
            "   ...\n",
            "   [0.60392157 0.6745098  0.71372549]\n",
            "   [0.61568627 0.68627451 0.75294118]\n",
            "   [0.45490196 0.50588235 0.59215686]]\n",
            "\n",
            "  ...\n",
            "\n",
            "  [[0.39215686 0.50588235 0.31764706]\n",
            "   [0.40392157 0.51764706 0.32941176]\n",
            "   [0.40784314 0.5254902  0.3372549 ]\n",
            "   ...\n",
            "   [0.38039216 0.50196078 0.32941176]\n",
            "   [0.38431373 0.49411765 0.32941176]\n",
            "   [0.35686275 0.4745098  0.30980392]]\n",
            "\n",
            "  [[0.40392157 0.51764706 0.3254902 ]\n",
            "   [0.40784314 0.51372549 0.3254902 ]\n",
            "   [0.41960784 0.52941176 0.34117647]\n",
            "   ...\n",
            "   [0.39607843 0.51764706 0.34117647]\n",
            "   [0.38823529 0.49803922 0.32941176]\n",
            "   [0.36078431 0.4745098  0.30980392]]\n",
            "\n",
            "  [[0.37254902 0.49411765 0.30588235]\n",
            "   [0.37254902 0.48235294 0.29803922]\n",
            "   [0.39607843 0.50196078 0.31764706]\n",
            "   ...\n",
            "   [0.36470588 0.48627451 0.31372549]\n",
            "   [0.37254902 0.48235294 0.31764706]\n",
            "   [0.36078431 0.47058824 0.31372549]]]\n",
            "\n",
            "\n",
            " [[[0.28627451 0.30588235 0.29411765]\n",
            "   [0.38431373 0.40392157 0.44313725]\n",
            "   [0.38823529 0.41568627 0.44705882]\n",
            "   ...\n",
            "   [0.52941176 0.58823529 0.59607843]\n",
            "   [0.52941176 0.58431373 0.60392157]\n",
            "   [0.79607843 0.84313725 0.8745098 ]]\n",
            "\n",
            "  [[0.27058824 0.28627451 0.2745098 ]\n",
            "   [0.32941176 0.34901961 0.38039216]\n",
            "   [0.26666667 0.29411765 0.31764706]\n",
            "   ...\n",
            "   [0.33333333 0.37254902 0.34901961]\n",
            "   [0.27843137 0.32156863 0.31372549]\n",
            "   [0.47058824 0.52156863 0.52941176]]\n",
            "\n",
            "  [[0.27058824 0.28627451 0.2745098 ]\n",
            "   [0.35294118 0.37254902 0.39215686]\n",
            "   [0.24313725 0.27843137 0.29019608]\n",
            "   ...\n",
            "   [0.29019608 0.31764706 0.2745098 ]\n",
            "   [0.20784314 0.24313725 0.21176471]\n",
            "   [0.24313725 0.29019608 0.27058824]]\n",
            "\n",
            "  ...\n",
            "\n",
            "  [[0.48235294 0.50196078 0.37647059]\n",
            "   [0.51764706 0.51764706 0.4       ]\n",
            "   [0.50588235 0.50196078 0.39215686]\n",
            "   ...\n",
            "   [0.42352941 0.41960784 0.34509804]\n",
            "   [0.24313725 0.23529412 0.21568627]\n",
            "   [0.10588235 0.10588235 0.10980392]]\n",
            "\n",
            "  [[0.45098039 0.4745098  0.35686275]\n",
            "   [0.48235294 0.48627451 0.37254902]\n",
            "   [0.50588235 0.49411765 0.38823529]\n",
            "   ...\n",
            "   [0.45098039 0.45490196 0.36862745]\n",
            "   [0.25882353 0.25490196 0.23137255]\n",
            "   [0.10588235 0.10588235 0.10588235]]\n",
            "\n",
            "  [[0.45490196 0.47058824 0.35294118]\n",
            "   [0.4745098  0.47843137 0.36862745]\n",
            "   [0.50588235 0.50196078 0.39607843]\n",
            "   ...\n",
            "   [0.45490196 0.45098039 0.36862745]\n",
            "   [0.26666667 0.25490196 0.22745098]\n",
            "   [0.10588235 0.10196078 0.10196078]]]]\n"
          ]
        }
      ]
    },
    {
      "cell_type": "code",
      "source": [
        "y_train_categorical = keras.utils.to_categorical(\n",
        "    y_train, num_classes = 10, dtype = 'float32'\n",
        ")\n",
        "y_train_categorical"
      ],
      "metadata": {
        "colab": {
          "base_uri": "https://localhost:8080/"
        },
        "id": "pyQvtos1IdsN",
        "outputId": "b2610045-62ef-4e10-a973-c9482313fc8a"
      },
      "execution_count": 25,
      "outputs": [
        {
          "output_type": "execute_result",
          "data": {
            "text/plain": [
              "array([[[1., 0., 0., ..., 0., 0., 0.],\n",
              "        [1., 0., 0., ..., 0., 0., 0.],\n",
              "        [1., 0., 0., ..., 0., 0., 0.],\n",
              "        ...,\n",
              "        [1., 0., 0., ..., 0., 0., 0.],\n",
              "        [1., 0., 0., ..., 0., 0., 0.],\n",
              "        [1., 0., 0., ..., 0., 0., 0.]],\n",
              "\n",
              "       [[1., 0., 0., ..., 0., 0., 0.],\n",
              "        [1., 0., 0., ..., 0., 0., 0.],\n",
              "        [1., 0., 0., ..., 0., 0., 0.],\n",
              "        ...,\n",
              "        [1., 0., 0., ..., 0., 0., 0.],\n",
              "        [1., 0., 0., ..., 0., 0., 0.],\n",
              "        [0., 1., 0., ..., 0., 0., 0.]],\n",
              "\n",
              "       [[1., 0., 0., ..., 0., 0., 0.],\n",
              "        [1., 0., 0., ..., 0., 0., 0.],\n",
              "        [1., 0., 0., ..., 0., 0., 0.],\n",
              "        ...,\n",
              "        [1., 0., 0., ..., 0., 0., 0.],\n",
              "        [1., 0., 0., ..., 0., 0., 0.],\n",
              "        [0., 1., 0., ..., 0., 0., 0.]],\n",
              "\n",
              "       ...,\n",
              "\n",
              "       [[1., 0., 0., ..., 0., 0., 0.],\n",
              "        [1., 0., 0., ..., 0., 0., 0.],\n",
              "        [1., 0., 0., ..., 0., 0., 0.],\n",
              "        ...,\n",
              "        [1., 0., 0., ..., 0., 0., 0.],\n",
              "        [1., 0., 0., ..., 0., 0., 0.],\n",
              "        [0., 1., 0., ..., 0., 0., 0.]],\n",
              "\n",
              "       [[1., 0., 0., ..., 0., 0., 0.],\n",
              "        [0., 1., 0., ..., 0., 0., 0.],\n",
              "        [1., 0., 0., ..., 0., 0., 0.],\n",
              "        ...,\n",
              "        [1., 0., 0., ..., 0., 0., 0.],\n",
              "        [1., 0., 0., ..., 0., 0., 0.],\n",
              "        [1., 0., 0., ..., 0., 0., 0.]],\n",
              "\n",
              "       [[1., 0., 0., ..., 0., 0., 0.],\n",
              "        [0., 1., 0., ..., 0., 0., 0.],\n",
              "        [1., 0., 0., ..., 0., 0., 0.],\n",
              "        ...,\n",
              "        [1., 0., 0., ..., 0., 0., 0.],\n",
              "        [1., 0., 0., ..., 0., 0., 0.],\n",
              "        [1., 0., 0., ..., 0., 0., 0.]]], dtype=float32)"
            ]
          },
          "metadata": {},
          "execution_count": 25
        }
      ]
    },
    {
      "cell_type": "code",
      "source": [
        "y_test_categorical = keras.utils.to_categorical(\n",
        "    y_test, num_classes = 10, dtype = 'float32'\n",
        ")\n",
        "y_test_categorical"
      ],
      "metadata": {
        "colab": {
          "base_uri": "https://localhost:8080/"
        },
        "id": "v4lK7pomLVFr",
        "outputId": "0193468e-f4a8-485e-8c2e-9a5d5051f81d"
      },
      "execution_count": 26,
      "outputs": [
        {
          "output_type": "execute_result",
          "data": {
            "text/plain": [
              "array([[0., 0., 0., ..., 0., 0., 0.],\n",
              "       [0., 0., 0., ..., 0., 1., 0.],\n",
              "       [0., 0., 0., ..., 0., 1., 0.],\n",
              "       ...,\n",
              "       [0., 0., 0., ..., 0., 0., 0.],\n",
              "       [0., 1., 0., ..., 0., 0., 0.],\n",
              "       [0., 0., 0., ..., 1., 0., 0.]], dtype=float32)"
            ]
          },
          "metadata": {},
          "execution_count": 26
        }
      ]
    },
    {
      "cell_type": "code",
      "source": [
        "model = keras.Sequential([\n",
        "        keras.layers.Flatten(input_shape=(32,32,3)),\n",
        "        keras.layers.Dense(3000, activation='relu'),\n",
        "        keras.layers.Dense(1000, activation='relu'),\n",
        "        keras.layers.Dense(10, activation='sigmoid')    \n",
        "    ])\n",
        "\n",
        "model.compile(optimizer='SGD',\n",
        "              loss='categorical_crossentropy',\n",
        "              metrics=['accuracy'])\n",
        "\n",
        "model.fit(X_train_scaled, y_train, epochs=1)"
      ],
      "metadata": {
        "colab": {
          "base_uri": "https://localhost:8080/"
        },
        "id": "oWfq0Z0zLuJv",
        "outputId": "a44b1974-dcc8-43dc-c371-eafd0f2a4d94"
      },
      "execution_count": 34,
      "outputs": [
        {
          "output_type": "stream",
          "name": "stdout",
          "text": [
            "1563/1563 [==============================] - 94s 60ms/step - loss: 1.8117 - accuracy: 0.3521\n"
          ]
        },
        {
          "output_type": "execute_result",
          "data": {
            "text/plain": [
              "<keras.callbacks.History at 0x7f5b52a6c250>"
            ]
          },
          "metadata": {},
          "execution_count": 34
        }
      ]
    }
  ]
}