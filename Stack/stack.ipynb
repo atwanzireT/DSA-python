{
 "cells": [
  {
   "cell_type": "markdown",
   "id": "37463488",
   "metadata": {},
   "source": [
    "### stack is a datastructure that adds and removes elements in a specfic order\n",
    "Every time an element is added, it goes on the \"top\" of the stack. Only an element at the top of the stack can be removed, just like a stack of plates. This behavior is called LIFO (Last In, First Out).\n",
    "\n",
    "### Terminology\n",
    "Adding a new element onto the stack is called push.\n",
    "Removing an element from the stack is called pop.\n",
    "\n",
    "### Application\n",
    "Stacks can be used to create undo-redo functionalities, parsing expressions (infix to postfix/prefix conversion), and much more."
   ]
  },
  {
   "cell_type": "code",
   "execution_count": null,
   "id": "8444591f",
   "metadata": {},
   "outputs": [],
   "source": [
    "class Stack:\n",
    "    def __init__(self):\n",
    "        self.items = []  \n",
    "  \n",
    "    def is_empty(self):\n",
    "        return self.items == []\n",
    "  \n",
    "    def push(self, item):\n",
    "        self.items.insert(0, item)\n",
    "    \n",
    "    def pop(self):\n",
    "        return self.items.pop(0)\n",
    "    \n",
    "    def print_stack(self):\n",
    "        print(self.items)\n",
    "    \n",
    "s = Stack()\n",
    "s.push('a')\n",
    "s.push('b')\n",
    "s.push('c')\n",
    "s.print_stack()\n",
    "\n",
    "s.pop()\n",
    "s.print_stack()"
   ]
  }
 ],
 "metadata": {
  "kernelspec": {
   "display_name": "Python 3 (ipykernel)",
   "language": "python",
   "name": "python3"
  },
  "language_info": {
   "codemirror_mode": {
    "name": "ipython",
    "version": 3
   },
   "file_extension": ".py",
   "mimetype": "text/x-python",
   "name": "python",
   "nbconvert_exporter": "python",
   "pygments_lexer": "ipython3",
   "version": "3.10.2"
  }
 },
 "nbformat": 4,
 "nbformat_minor": 5
}
