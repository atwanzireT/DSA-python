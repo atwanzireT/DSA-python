{
 "cells": [
  {
   "cell_type": "markdown",
   "id": "d9f74058",
   "metadata": {},
   "source": [
    "# Hands On"
   ]
  },
  {
   "cell_type": "markdown",
   "id": "34983e0e",
   "metadata": {},
   "source": [
    "### Introducing Python"
   ]
  },
  {
   "cell_type": "code",
   "execution_count": 1,
   "id": "f717fb10",
   "metadata": {},
   "outputs": [],
   "source": [
    "from datetime import datetime # importing datetime"
   ]
  },
  {
   "cell_type": "code",
   "execution_count": 5,
   "id": "7e0cb585",
   "metadata": {},
   "outputs": [
    {
     "name": "stdout",
     "output_type": "stream",
     "text": [
      "This minute seems a little odd.\n"
     ]
    }
   ],
   "source": [
    "# creating a python list storing odd minutes\n",
    "odds = [ 1, 3, 5, 7, 9, 11, 13, 15, 17, 19,\n",
    " 21, 23, 25, 27, 29, 31, 33, 35, 37, 39,\n",
    " 41, 43, 45, 47, 49, 51, 53, 55, 57, 59 ]\n",
    "\n",
    "right_min = datetime.today().minute\n",
    "\n",
    "# Checking if the current minute exits in the old list\n",
    "if right_min in odds:\n",
    "    print(\"This minute seems a little odd.\")\n",
    "else:\n",
    "    print(\"Not an odd minute.\")"
   ]
  },
  {
   "cell_type": "code",
   "execution_count": 2,
   "id": "a4cf2f27",
   "metadata": {},
   "outputs": [],
   "source": [
    "# os module\n",
    "from os import getcwd"
   ]
  },
  {
   "cell_type": "code",
   "execution_count": 4,
   "id": "14860004",
   "metadata": {},
   "outputs": [
    {
     "name": "stdout",
     "output_type": "stream",
     "text": [
      "C:\\Users\\fedora\\Desktop\\DSA-python\\Python\\Basics\n"
     ]
    }
   ],
   "source": [
    "where_am_i = getcwd()\n",
    "print(where_am_i)"
   ]
  },
  {
   "cell_type": "code",
   "execution_count": 6,
   "id": "4e5fca36",
   "metadata": {},
   "outputs": [
    {
     "name": "stdout",
     "output_type": "stream",
     "text": [
      "win32\n",
      "3.10.2 (tags/v3.10.2:a58ebcc, Jan 17 2022, 14:12:15) [MSC v.1929 64 bit (AMD64)]\n"
     ]
    }
   ],
   "source": [
    "# sys module\n",
    "import sys\n",
    "\n",
    "print(sys.platform)\n",
    "print(sys.version)"
   ]
  }
 ],
 "metadata": {
  "kernelspec": {
   "display_name": "Python 3 (ipykernel)",
   "language": "python",
   "name": "python3"
  },
  "language_info": {
   "codemirror_mode": {
    "name": "ipython",
    "version": 3
   },
   "file_extension": ".py",
   "mimetype": "text/x-python",
   "name": "python",
   "nbconvert_exporter": "python",
   "pygments_lexer": "ipython3",
   "version": "3.10.2"
  }
 },
 "nbformat": 4,
 "nbformat_minor": 5
}
