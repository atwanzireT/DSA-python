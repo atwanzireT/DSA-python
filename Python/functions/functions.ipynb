{
 "cells": [
  {
   "cell_type": "code",
   "execution_count": 3,
   "id": "de754e28",
   "metadata": {},
   "outputs": [
    {
     "name": "stdout",
     "output_type": "stream",
     "text": [
      "Input a word you are looking for: a\n",
      "Letter exists ...\n"
     ]
    }
   ],
   "source": [
    "#  function searching for vowels\n",
    "\n",
    "def search4vowels():\n",
    "    vowels = set('aeiou')\n",
    "    letter = input(\"Input a word you are looking for: \")\n",
    "    for letter in vowels:\n",
    "        if letter in vowels:\n",
    "            print(\"Letter exists ...\")\n",
    "            break\n",
    "        else:\n",
    "            print(\"Letter does not exist ...\")\n",
    "            break\n",
    "            \n",
    "search4vowels()"
   ]
  },
  {
   "cell_type": "markdown",
   "id": "c427cbc6",
   "metadata": {},
   "source": [
    "### Explaination to the above function\n",
    "- The search4vowels declares a set\n",
    "- lets a  user input a word\n",
    "- searches if a word exits in the set"
   ]
  },
  {
   "cell_type": "code",
   "execution_count": 4,
   "id": "05229d77",
   "metadata": {},
   "outputs": [
    {
     "name": "stdout",
     "output_type": "stream",
     "text": [
      "Letter exists ...\n"
     ]
    }
   ],
   "source": [
    "#  function searching for vowels\n",
    "\n",
    "def search4vowels(letter):\n",
    "    vowels = set('aeiou')\n",
    "    for letter in vowels:\n",
    "        if letter in vowels:\n",
    "            print(\"Letter exists ...\")\n",
    "            break\n",
    "        else:\n",
    "            print(\"Letter does not exist ...\")\n",
    "            break\n",
    "\n",
    "#  envoking the function\n",
    "search4vowels(\"e\")"
   ]
  },
  {
   "cell_type": "code",
   "execution_count": 5,
   "id": "26068b8c",
   "metadata": {},
   "outputs": [
    {
     "data": {
      "text/plain": [
       "'Letter exists ...'"
      ]
     },
     "execution_count": 5,
     "metadata": {},
     "output_type": "execute_result"
    }
   ],
   "source": [
    "# Using the return function\n",
    "def search4vowels(letter):\n",
    "    vowels = set('aeiou')\n",
    "    for letter in vowels:\n",
    "        if letter in vowels:\n",
    "            return \"Letter exists ...\"\n",
    "            break\n",
    "        else:\n",
    "            return \"Letter does not exist ...\"\n",
    "            break\n",
    "\n",
    "#  envoking the function\n",
    "search4vowels(\"e\")\n",
    "\n",
    "# try\n",
    "# print(search4vowels(\"e\"))"
   ]
  },
  {
   "cell_type": "code",
   "execution_count": null,
   "id": "e201d726",
   "metadata": {},
   "outputs": [],
   "source": []
  }
 ],
 "metadata": {
  "kernelspec": {
   "display_name": "Python 3 (ipykernel)",
   "language": "python",
   "name": "python3"
  },
  "language_info": {
   "codemirror_mode": {
    "name": "ipython",
    "version": 3
   },
   "file_extension": ".py",
   "mimetype": "text/x-python",
   "name": "python",
   "nbconvert_exporter": "python",
   "pygments_lexer": "ipython3",
   "version": "3.10.2"
  }
 },
 "nbformat": 4,
 "nbformat_minor": 5
}
