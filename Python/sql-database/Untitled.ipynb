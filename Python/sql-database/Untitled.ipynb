{
 "cells": [
  {
   "cell_type": "code",
   "execution_count": 4,
   "id": "f5a1cd13",
   "metadata": {},
   "outputs": [],
   "source": [
    "import mysql.connector as conn"
   ]
  },
  {
   "cell_type": "code",
   "execution_count": 6,
   "id": "2ba9ba9e",
   "metadata": {},
   "outputs": [],
   "source": [
    "mydb = conn.connect(\n",
    "    host = \"localhost\",\n",
    "    user = \"root\",\n",
    "    password = \"\",\n",
    ")\n",
    "mycursor = mydb.cursor()\n",
    "mycursor.execute(\"create database testpy\")"
   ]
  },
  {
   "cell_type": "code",
   "execution_count": 13,
   "id": "1aa0f24e",
   "metadata": {},
   "outputs": [],
   "source": [
    "mydb = conn.connect(\n",
    "    host = \"localhost\",\n",
    "    user = \"root\",\n",
    "    password = \"\",\n",
    "    database = \"testpy\",\n",
    ")\n",
    "\n",
    "mycursor = mydb.cursor()\n",
    "mycursor.execute(\"create table user(name varchar(45), age int(10))\")"
   ]
  },
  {
   "cell_type": "code",
   "execution_count": null,
   "id": "a2918ec7",
   "metadata": {},
   "outputs": [],
   "source": []
  }
 ],
 "metadata": {
  "kernelspec": {
   "display_name": "Python 3 (ipykernel)",
   "language": "python",
   "name": "python3"
  },
  "language_info": {
   "codemirror_mode": {
    "name": "ipython",
    "version": 3
   },
   "file_extension": ".py",
   "mimetype": "text/x-python",
   "name": "python",
   "nbconvert_exporter": "python",
   "pygments_lexer": "ipython3",
   "version": "3.10.2"
  }
 },
 "nbformat": 4,
 "nbformat_minor": 5
}
