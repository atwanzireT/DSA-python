{
 "cells": [
  {
   "cell_type": "markdown",
   "id": "5a642228",
   "metadata": {},
   "source": [
    "# Lists"
   ]
  },
  {
   "cell_type": "code",
   "execution_count": 2,
   "id": "5d2b01e4",
   "metadata": {},
   "outputs": [
    {
     "data": {
      "text/plain": [
       "['tim', 'james']"
      ]
     },
     "execution_count": 2,
     "metadata": {},
     "output_type": "execute_result"
    }
   ],
   "source": [
    "# creating list\n",
    "names = [\"tim\", \"james\"]\n",
    "names"
   ]
  },
  {
   "cell_type": "code",
   "execution_count": 3,
   "id": "939a237d",
   "metadata": {},
   "outputs": [
    {
     "data": {
      "text/plain": [
       "['tim', 'james', 'david']"
      ]
     },
     "execution_count": 3,
     "metadata": {},
     "output_type": "execute_result"
    }
   ],
   "source": [
    "# adding items to lists\n",
    "names.append(\"david\")\n",
    "names"
   ]
  },
  {
   "cell_type": "markdown",
   "id": "658ced71",
   "metadata": {},
   "source": [
    "\n",
    "### list.append(x)\n",
    "\n",
    "    Add an item to the end of the list. Equivalent to a[len(a):] = [x].\n",
    "\n",
    "### list.extend(iterable)\n",
    "\n",
    "    Extend the list by appending all the items from the iterable. Equivalent to a[len(a):] = iterable.\n",
    "\n",
    "### list.insert(i, x)\n",
    "\n",
    "    Insert an item at a given position. The first argument is the index of the element before which to insert, so a.insert(0, x) inserts at the front of the list, and a.insert(len(a), x) is equivalent to a.append(x).\n",
    "\n",
    "### list.remove(x)\n",
    "\n",
    "    Remove the first item from the list whose value is equal to x. It raises a ValueError if there is no such item.\n",
    "\n",
    "### list.pop([i])\n",
    "\n",
    "    Remove the item at the given position in the list, and return it. If no index is specified, a.pop() removes and returns the last item in the list. (The square brackets around the i in the method signature denote that the parameter is optional, not that you should type square brackets at that position. You will see this notation frequently in the Python Library Reference.)\n",
    "\n",
    "### list.clear()\n",
    "\n",
    "    Remove all items from the list. Equivalent to del a[:].\n",
    "\n",
    "### list.index(x[, start[, end]])\n",
    "\n",
    "    Return zero-based index in the list of the first item whose value is equal to x. Raises a ValueError if there is no such item.\n",
    "\n",
    "    The optional arguments start and end are interpreted as in the slice notation and are used to limit the search to a particular subsequence of the list. The returned index is computed relative to the beginning of the full sequence rather than the start argument.\n",
    "\n",
    "### list.count(x)\n",
    "\n",
    "    Return the number of times x appears in the list.\n",
    "\n",
    "### list.sort(*, key=None, reverse=False)\n",
    "\n",
    "    Sort the items of the list in place (the arguments can be used for sort customization, see sorted() for their explanation).\n",
    "\n",
    "### list.reverse()\n",
    "\n",
    "    Reverse the elements of the list in place.\n",
    "\n",
    "### list.copy()\n",
    "\n",
    "    Return a shallow copy of the list. Equivalent to a[:].\n"
   ]
  },
  {
   "cell_type": "markdown",
   "id": "f198c24b",
   "metadata": {},
   "source": [
    "## Using Lists as Stacks"
   ]
  },
  {
   "cell_type": "code",
   "execution_count": 5,
   "id": "183cc0de",
   "metadata": {},
   "outputs": [
    {
     "name": "stdout",
     "output_type": "stream",
     "text": [
      "[3, 4, 6]\n",
      "[3, 4, 6, 7, 9]\n",
      "[3, 4, 6, 7]\n"
     ]
    }
   ],
   "source": [
    "stack = [3, 4, 6]\n",
    "print(stack)\n",
    "\n",
    "# add items at the end of the list\n",
    "stack.append(7)\n",
    "stack.append(9)\n",
    "print(stack)\n",
    "\n",
    "# remove item at the list\n",
    "stack.pop()\n",
    "print(stack)"
   ]
  },
  {
   "cell_type": "markdown",
   "id": "41f6d03a",
   "metadata": {},
   "source": [
    "## Using Lists as Queues"
   ]
  },
  {
   "cell_type": "code",
   "execution_count": 9,
   "id": "afd93cfd",
   "metadata": {},
   "outputs": [
    {
     "name": "stdout",
     "output_type": "stream",
     "text": [
      "deque(['tom', 'tony', 'tim'])\n",
      "deque(['tom', 'tony', 'tim', 'tery', 'oscar'])\n",
      "deque(['tony', 'tim', 'tery', 'oscar'])\n"
     ]
    }
   ],
   "source": [
    "from collections import deque\n",
    "\n",
    "queue = deque([\"tom\", \"tony\", \"tim\"])\n",
    "print(queue)\n",
    "queue.append(\"tery\")\n",
    "queue.append(\"oscar\")\n",
    "print(queue)\n",
    "queue.popleft()\n",
    "print(queue)"
   ]
  },
  {
   "cell_type": "markdown",
   "id": "424dec3f",
   "metadata": {},
   "source": [
    "## List Comprehensions"
   ]
  },
  {
   "cell_type": "code",
   "execution_count": 12,
   "id": "8dcebfee",
   "metadata": {},
   "outputs": [
    {
     "data": {
      "text/plain": [
       "[0, 1, 4, 9, 16, 25, 36, 49, 64, 81]"
      ]
     },
     "execution_count": 12,
     "metadata": {},
     "output_type": "execute_result"
    }
   ],
   "source": [
    "squares = []\n",
    "for i in range(10):\n",
    "    squares.append(i**2)\n",
    "squares"
   ]
  },
  {
   "cell_type": "code",
   "execution_count": 13,
   "id": "fcdce2c1",
   "metadata": {},
   "outputs": [
    {
     "data": {
      "text/plain": [
       "[0, 1, 4, 9, 16, 25, 36, 49, 64, 81]"
      ]
     },
     "execution_count": 13,
     "metadata": {},
     "output_type": "execute_result"
    }
   ],
   "source": [
    "squares = list(map(lambda x: x**2, range(10)))\n",
    "squares"
   ]
  },
  {
   "cell_type": "code",
   "execution_count": 14,
   "id": "dfbf6b31",
   "metadata": {},
   "outputs": [
    {
     "data": {
      "text/plain": [
       "[0, 1, 4, 9, 16, 25, 36, 49, 64, 81]"
      ]
     },
     "execution_count": 14,
     "metadata": {},
     "output_type": "execute_result"
    }
   ],
   "source": [
    "squares = [x**2 for x in range(10)]\n",
    "squares"
   ]
  },
  {
   "cell_type": "code",
   "execution_count": null,
   "id": "71d91076",
   "metadata": {},
   "outputs": [],
   "source": []
  }
 ],
 "metadata": {
  "kernelspec": {
   "display_name": "Python 3 (ipykernel)",
   "language": "python",
   "name": "python3"
  },
  "language_info": {
   "codemirror_mode": {
    "name": "ipython",
    "version": 3
   },
   "file_extension": ".py",
   "mimetype": "text/x-python",
   "name": "python",
   "nbconvert_exporter": "python",
   "pygments_lexer": "ipython3",
   "version": "3.9.12"
  }
 },
 "nbformat": 4,
 "nbformat_minor": 5
}
