{
 "cells": [
  {
   "cell_type": "markdown",
   "id": "e0b55c21",
   "metadata": {},
   "source": [
    "### Linked Lists\n",
    "\n",
    "This is a sequence of data values connected together via links\n",
    "- Each data element contains a connection to another data element inform of a pointer"
   ]
  },
  {
   "cell_type": "markdown",
   "id": "abd211d5",
   "metadata": {},
   "source": [
    "### Creating the Node class"
   ]
  },
  {
   "cell_type": "code",
   "execution_count": 1,
   "id": "1e45f587",
   "metadata": {},
   "outputs": [],
   "source": [
    "class Node:\n",
    "    def __init__(self, data, next):\n",
    "        self.data = data\n",
    "        self.next = next"
   ]
  },
  {
   "cell_type": "markdown",
   "id": "d7b6ea5f",
   "metadata": {},
   "source": [
    "### creating LinkedList class with the corresponding methods"
   ]
  },
  {
   "cell_type": "code",
   "execution_count": null,
   "id": "4a0e2f2b",
   "metadata": {},
   "outputs": [],
   "source": [
    "class LinkedList:\n",
    "    def __init__(self):\n",
    "        self.head = None\n",
    "    \n",
    "    def add_at_front(self, data):\n",
    "        self.head = Node(data, self.head)\n",
    "        \n",
    "    def add_at_end(self, data):\n",
    "        if not self.head:\n",
    "            self.head = Node(data, None)\n",
    "            return\n",
    "        curr = self.head\n",
    "        while curr.next:\n",
    "            curr = curr.next\n",
    "        curr.next = Node(data, N)\n",
    "        \n",
    "            \n",
    "        "
   ]
  }
 ],
 "metadata": {
  "kernelspec": {
   "display_name": "Python 3 (ipykernel)",
   "language": "python",
   "name": "python3"
  },
  "language_info": {
   "codemirror_mode": {
    "name": "ipython",
    "version": 3
   },
   "file_extension": ".py",
   "mimetype": "text/x-python",
   "name": "python",
   "nbconvert_exporter": "python",
   "pygments_lexer": "ipython3",
   "version": "3.10.2"
  }
 },
 "nbformat": 4,
 "nbformat_minor": 5
}
